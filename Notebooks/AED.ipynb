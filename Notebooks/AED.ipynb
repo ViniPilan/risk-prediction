{
 "cells": [
  {
   "cell_type": "markdown",
   "id": "63c7e005",
   "metadata": {},
   "source": [
    "# Análise Exploratória de Dados (AED)\n",
    "\n",
    "Neste documento é abordada a AED do conjunto de dados *Credit Risk Analysis for extending Bank Loans*, obtido no Kaggle (disponível clicando [aqui](https://www.kaggle.com/datasets/atulmittal199174/credit-risk-analysis-for-extending-bank-loans)):\n",
    "\n",
    "\n",
    "Coluna | Conteúdo\n",
    "----|----\n",
    "age | Idade dos clientes\n",
    "ed | Nível de educação dos clientes\n",
    "employ | Experiência de emprego do cliente\n",
    "address | Endereço do cliente\n",
    "income | Salário anual do cliente\n",
    "debtinc | Relação débito e salário do cliente \n",
    "creddebt | Relação crédito e débito do cliente\n",
    "othdebt | Outros débitos\n",
    "default | Cliente não pagou suas dívidas anteriormente\n",
    "\n",
    "\n",
    "Logo abaixo, tem-se os resultados desta análise e mais adiante também é abordado o passo a passo da análise feita (código).\n",
    "\n"
   ]
  },
  {
   "cell_type": "markdown",
   "id": "030b6c25",
   "metadata": {},
   "source": [
    "## Resultados"
   ]
  },
  {
   "cell_type": "markdown",
   "id": "ac9ccc36",
   "metadata": {},
   "source": [
    "### Informações Técnicas"
   ]
  },
  {
   "cell_type": "markdown",
   "id": "cbf6655f",
   "metadata": {},
   "source": [
    "- **Número total de entradas:** 1150 linhas\n",
    "- **Número total de características:** 09 colunas\n",
    "\n",
    "\n",
    "- **variáveis categóricas:** ed, employ, address e default\n",
    "- **variáveis contínuas:** age, income, debtinc, creddebt e othdebt\n",
    "\n",
    "\n",
    "- **Dados nulos:** apenas na feature 'default', com 700 linhas não nulas de 1150 linhas totais\n",
    "- **Formato dos dados:** todos os formatos estão ok\n",
    "\n",
    "\n",
    "- **Anomalias:** foram encontradas algumas anomalias na variável 'income'\n",
    "\n",
    "\n",
    "- **Correlações:** \n",
    "    - Com relação à feature 'default', as demais variáveis, no geral, não apresentaram correlação alta:\n",
    "        - **Maior correlação:** 0.389575 (debtinc)\n",
    "        - **Menor correlação:** 0.070970 (income)\n",
    "        \n",
    "    - Com relação à feature 'income' (excluindo as features de crédito por renda, débito por renda e outros débitos):\n",
    "        - **Maior correlação:** 0.630706 (employ)\n",
    "        - **Menor correlação:** 0.070970 (default)\n",
    "        \n",
    "- Distribuição das features target:\n",
    "    - default: desbalanceada (74/26)\n",
    "    - income: contém anomalia\n",
    "  "
   ]
  },
  {
   "cell_type": "markdown",
   "id": "45c9fcf3",
   "metadata": {},
   "source": [
    "### Informações descritivas\n",
    "\n",
    "\n",
    "- **default (categórica) - desbalanceada:**\n",
    "    - 517 valores para 0 (73.86%)\n",
    "    - 183 valores para 1 (26.14%)\n",
    "\n",
    "\n",
    "- **income (contínua): - contém anomalias**\n",
    "    - Mínimo: 13.00\n",
    "    - Máximo: 446.00\n",
    "    - Média: 47.98\n",
    "    - Mediana: 36.00\n",
    "    - Desvio: 40.51  \n",
    "    \n",
    "\n",
    "- **Idade:** \n",
    "    - Mínimo: 20.000000\n",
    "    - Máximo: 56.000000\n",
    "    - Média: 35.235652\n",
    "    - Mediana: 35.000000\n",
    "    - Desvio: 8.089961"
   ]
  },
  {
   "cell_type": "markdown",
   "id": "2ab7b7c4",
   "metadata": {},
   "source": [
    "### Conclusões\n",
    "\n",
    "Pode-se criar modelos preditivos com duas targets:\n",
    "- default (exige balanceamento e tratamento dos dados nulos)\n",
    "- income (exige tratamento dos dados nulos de 'default')"
   ]
  },
  {
   "cell_type": "markdown",
   "id": "7373323d",
   "metadata": {},
   "source": [
    "## Código da análise"
   ]
  },
  {
   "cell_type": "code",
   "execution_count": 85,
   "id": "4f98a78b",
   "metadata": {},
   "outputs": [],
   "source": [
    "import numpy as np\n",
    "import pandas as pd\n",
    "import matplotlib.pyplot as plt\n",
    "import seaborn as sns\n",
    "import dataframe_image as df_img\n",
    "\n",
    "\n",
    "sns.set_style('whitegrid')"
   ]
  },
  {
   "cell_type": "code",
   "execution_count": 87,
   "id": "fca75b67",
   "metadata": {},
   "outputs": [
    {
     "data": {
      "text/html": [
       "<div>\n",
       "<style scoped>\n",
       "    .dataframe tbody tr th:only-of-type {\n",
       "        vertical-align: middle;\n",
       "    }\n",
       "\n",
       "    .dataframe tbody tr th {\n",
       "        vertical-align: top;\n",
       "    }\n",
       "\n",
       "    .dataframe thead th {\n",
       "        text-align: right;\n",
       "    }\n",
       "</style>\n",
       "<table border=\"1\" class=\"dataframe\">\n",
       "  <thead>\n",
       "    <tr style=\"text-align: right;\">\n",
       "      <th></th>\n",
       "      <th>age</th>\n",
       "      <th>ed</th>\n",
       "      <th>employ</th>\n",
       "      <th>address</th>\n",
       "      <th>income</th>\n",
       "      <th>debtinc</th>\n",
       "      <th>creddebt</th>\n",
       "      <th>othdebt</th>\n",
       "      <th>default</th>\n",
       "    </tr>\n",
       "  </thead>\n",
       "  <tbody>\n",
       "    <tr>\n",
       "      <th>0</th>\n",
       "      <td>41</td>\n",
       "      <td>3</td>\n",
       "      <td>17</td>\n",
       "      <td>12</td>\n",
       "      <td>176</td>\n",
       "      <td>9.3</td>\n",
       "      <td>11.359392</td>\n",
       "      <td>5.008608</td>\n",
       "      <td>1.0</td>\n",
       "    </tr>\n",
       "    <tr>\n",
       "      <th>1</th>\n",
       "      <td>27</td>\n",
       "      <td>1</td>\n",
       "      <td>10</td>\n",
       "      <td>6</td>\n",
       "      <td>31</td>\n",
       "      <td>17.3</td>\n",
       "      <td>1.362202</td>\n",
       "      <td>4.000798</td>\n",
       "      <td>0.0</td>\n",
       "    </tr>\n",
       "    <tr>\n",
       "      <th>2</th>\n",
       "      <td>40</td>\n",
       "      <td>1</td>\n",
       "      <td>15</td>\n",
       "      <td>14</td>\n",
       "      <td>55</td>\n",
       "      <td>5.5</td>\n",
       "      <td>0.856075</td>\n",
       "      <td>2.168925</td>\n",
       "      <td>0.0</td>\n",
       "    </tr>\n",
       "    <tr>\n",
       "      <th>3</th>\n",
       "      <td>41</td>\n",
       "      <td>1</td>\n",
       "      <td>15</td>\n",
       "      <td>14</td>\n",
       "      <td>120</td>\n",
       "      <td>2.9</td>\n",
       "      <td>2.658720</td>\n",
       "      <td>0.821280</td>\n",
       "      <td>0.0</td>\n",
       "    </tr>\n",
       "    <tr>\n",
       "      <th>4</th>\n",
       "      <td>24</td>\n",
       "      <td>2</td>\n",
       "      <td>2</td>\n",
       "      <td>0</td>\n",
       "      <td>28</td>\n",
       "      <td>17.3</td>\n",
       "      <td>1.787436</td>\n",
       "      <td>3.056564</td>\n",
       "      <td>1.0</td>\n",
       "    </tr>\n",
       "  </tbody>\n",
       "</table>\n",
       "</div>"
      ],
      "text/plain": [
       "   age  ed  employ  address  income  debtinc   creddebt   othdebt  default\n",
       "0   41   3      17       12     176      9.3  11.359392  5.008608      1.0\n",
       "1   27   1      10        6      31     17.3   1.362202  4.000798      0.0\n",
       "2   40   1      15       14      55      5.5   0.856075  2.168925      0.0\n",
       "3   41   1      15       14     120      2.9   2.658720  0.821280      0.0\n",
       "4   24   2       2        0      28     17.3   1.787436  3.056564      1.0"
      ]
     },
     "metadata": {},
     "output_type": "display_data"
    },
    {
     "name": "stderr",
     "output_type": "stream",
     "text": [
      "[0327/112753.371541:ERROR:sandbox_linux.cc(377)] InitializeSandbox() called with multiple threads in process gpu-process.\n",
      "[0327/112753.544183:WARNING:bluez_dbus_manager.cc(248)] Floss manager not present, cannot set Floss enable/disable.\n"
     ]
    },
    {
     "name": "stdout",
     "output_type": "stream",
     "text": [
      "<class 'pandas.core.frame.DataFrame'>\n",
      "RangeIndex: 1150 entries, 0 to 1149\n",
      "Data columns (total 9 columns):\n",
      " #   Column    Non-Null Count  Dtype  \n",
      "---  ------    --------------  -----  \n",
      " 0   age       1150 non-null   int64  \n",
      " 1   ed        1150 non-null   int64  \n",
      " 2   employ    1150 non-null   int64  \n",
      " 3   address   1150 non-null   int64  \n",
      " 4   income    1150 non-null   int64  \n",
      " 5   debtinc   1150 non-null   float64\n",
      " 6   creddebt  1150 non-null   float64\n",
      " 7   othdebt   1150 non-null   float64\n",
      " 8   default   700 non-null    float64\n",
      "dtypes: float64(4), int64(5)\n",
      "memory usage: 81.0 KB\n"
     ]
    },
    {
     "name": "stderr",
     "output_type": "stream",
     "text": [
      "[0327/112753.755340:INFO:headless_shell.cc(659)] Written to file /tmp/tmpqvrq8tsp/temp.png.\n"
     ]
    }
   ],
   "source": [
    "# Criando o data frame e o conhecendo brevemente\n",
    "df = pd.read_csv('../Dados/bankloans.csv')\n",
    "\n",
    "display(df.head())\n",
    "\n",
    "df_img.export(df.head(), '../Imagens/df_head')\n",
    "\n",
    "df.info()"
   ]
  },
  {
   "cell_type": "code",
   "execution_count": 11,
   "id": "9a7bd723",
   "metadata": {},
   "outputs": [
    {
     "data": {
      "text/html": [
       "<div>\n",
       "<style scoped>\n",
       "    .dataframe tbody tr th:only-of-type {\n",
       "        vertical-align: middle;\n",
       "    }\n",
       "\n",
       "    .dataframe tbody tr th {\n",
       "        vertical-align: top;\n",
       "    }\n",
       "\n",
       "    .dataframe thead th {\n",
       "        text-align: right;\n",
       "    }\n",
       "</style>\n",
       "<table border=\"1\" class=\"dataframe\">\n",
       "  <thead>\n",
       "    <tr style=\"text-align: right;\">\n",
       "      <th></th>\n",
       "      <th>default</th>\n",
       "    </tr>\n",
       "  </thead>\n",
       "  <tbody>\n",
       "    <tr>\n",
       "      <th>default</th>\n",
       "      <td>1.000000</td>\n",
       "    </tr>\n",
       "    <tr>\n",
       "      <th>debtinc</th>\n",
       "      <td>0.389575</td>\n",
       "    </tr>\n",
       "    <tr>\n",
       "      <th>employ</th>\n",
       "      <td>0.282978</td>\n",
       "    </tr>\n",
       "    <tr>\n",
       "      <th>creddebt</th>\n",
       "      <td>0.244740</td>\n",
       "    </tr>\n",
       "    <tr>\n",
       "      <th>address</th>\n",
       "      <td>0.164451</td>\n",
       "    </tr>\n",
       "    <tr>\n",
       "      <th>othdebt</th>\n",
       "      <td>0.145713</td>\n",
       "    </tr>\n",
       "    <tr>\n",
       "      <th>age</th>\n",
       "      <td>0.137657</td>\n",
       "    </tr>\n",
       "    <tr>\n",
       "      <th>ed</th>\n",
       "      <td>0.114676</td>\n",
       "    </tr>\n",
       "    <tr>\n",
       "      <th>income</th>\n",
       "      <td>0.070970</td>\n",
       "    </tr>\n",
       "  </tbody>\n",
       "</table>\n",
       "</div>"
      ],
      "text/plain": [
       "           default\n",
       "default   1.000000\n",
       "debtinc   0.389575\n",
       "employ    0.282978\n",
       "creddebt  0.244740\n",
       "address   0.164451\n",
       "othdebt   0.145713\n",
       "age       0.137657\n",
       "ed        0.114676\n",
       "income    0.070970"
      ]
     },
     "execution_count": 11,
     "metadata": {},
     "output_type": "execute_result"
    }
   ],
   "source": [
    "# Conhecendo as correlações (em módulo)\n",
    "df.corr()['default'].apply(lambda x:x if x>=0 else -x).sort_values(ascending=False).to_frame()"
   ]
  },
  {
   "cell_type": "code",
   "execution_count": 13,
   "id": "c7ece1d2",
   "metadata": {},
   "outputs": [
    {
     "data": {
      "text/html": [
       "<div>\n",
       "<style scoped>\n",
       "    .dataframe tbody tr th:only-of-type {\n",
       "        vertical-align: middle;\n",
       "    }\n",
       "\n",
       "    .dataframe tbody tr th {\n",
       "        vertical-align: top;\n",
       "    }\n",
       "\n",
       "    .dataframe thead th {\n",
       "        text-align: right;\n",
       "    }\n",
       "</style>\n",
       "<table border=\"1\" class=\"dataframe\">\n",
       "  <thead>\n",
       "    <tr style=\"text-align: right;\">\n",
       "      <th></th>\n",
       "      <th>income</th>\n",
       "    </tr>\n",
       "  </thead>\n",
       "  <tbody>\n",
       "    <tr>\n",
       "      <th>income</th>\n",
       "      <td>1.000000</td>\n",
       "    </tr>\n",
       "    <tr>\n",
       "      <th>employ</th>\n",
       "      <td>0.630706</td>\n",
       "    </tr>\n",
       "    <tr>\n",
       "      <th>age</th>\n",
       "      <td>0.473617</td>\n",
       "    </tr>\n",
       "    <tr>\n",
       "      <th>address</th>\n",
       "      <td>0.299643</td>\n",
       "    </tr>\n",
       "    <tr>\n",
       "      <th>ed</th>\n",
       "      <td>0.201183</td>\n",
       "    </tr>\n",
       "    <tr>\n",
       "      <th>default</th>\n",
       "      <td>0.070970</td>\n",
       "    </tr>\n",
       "  </tbody>\n",
       "</table>\n",
       "</div>"
      ],
      "text/plain": [
       "           income\n",
       "income   1.000000\n",
       "employ   0.630706\n",
       "age      0.473617\n",
       "address  0.299643\n",
       "ed       0.201183\n",
       "default  0.070970"
      ]
     },
     "execution_count": 13,
     "metadata": {},
     "output_type": "execute_result"
    }
   ],
   "source": [
    "df.drop(columns={'othdebt', 'creddebt', 'debtinc'}).corr()['income'].apply(lambda x:x if x>=0 else -x).sort_values(ascending=False).to_frame()"
   ]
  },
  {
   "cell_type": "code",
   "execution_count": 84,
   "id": "3c917b88",
   "metadata": {},
   "outputs": [
    {
     "data": {
      "image/png": "[encoded data removed]",
      "text/plain": [
       "<Figure size 432x288 with 1 Axes>"
      ]
     },
     "metadata": {},
     "output_type": "display_data"
    }
   ],
   "source": [
    "# Análise gráfica da distribuição de Income\n",
    "df['income'].plot(kind='hist',\n",
    "                 title='Histogrâma de \"income\"')\n",
    "\n",
    "plt.savefig('../Imagens/income-hist')\n"
   ]
  },
  {
   "cell_type": "code",
   "execution_count": 21,
   "id": "4b685916",
   "metadata": {},
   "outputs": [
    {
     "data": {
      "text/plain": [
       "<seaborn.axisgrid.PairGrid at 0x7f6a639bd6a0>"
      ]
     },
     "execution_count": 21,
     "metadata": {},
     "output_type": "execute_result"
    },
    {
     "data": {
      "image/png": "[encoded data removed]",
      "text/plain": [
       "<Figure size 1492x180 with 9 Axes>"
      ]
     },
     "metadata": {},
     "output_type": "display_data"
    }
   ],
   "source": [
    "# Analisando distribuição income em função de cada coluna (categorizado com relação a default)\n",
    "sns.pairplot(df, y_vars=['income'], hue='default')"
   ]
  },
  {
   "cell_type": "code",
   "execution_count": 35,
   "id": "44993d00",
   "metadata": {},
   "outputs": [
    {
     "data": {
      "text/html": [
       "<div>\n",
       "<style scoped>\n",
       "    .dataframe tbody tr th:only-of-type {\n",
       "        vertical-align: middle;\n",
       "    }\n",
       "\n",
       "    .dataframe tbody tr th {\n",
       "        vertical-align: top;\n",
       "    }\n",
       "\n",
       "    .dataframe thead th {\n",
       "        text-align: right;\n",
       "    }\n",
       "</style>\n",
       "<table border=\"1\" class=\"dataframe\">\n",
       "  <thead>\n",
       "    <tr style=\"text-align: right;\">\n",
       "      <th></th>\n",
       "      <th>default</th>\n",
       "      <th>default</th>\n",
       "    </tr>\n",
       "  </thead>\n",
       "  <tbody>\n",
       "    <tr>\n",
       "      <th>0.0</th>\n",
       "      <td>517</td>\n",
       "      <td>0.738571</td>\n",
       "    </tr>\n",
       "    <tr>\n",
       "      <th>1.0</th>\n",
       "      <td>183</td>\n",
       "      <td>0.261429</td>\n",
       "    </tr>\n",
       "  </tbody>\n",
       "</table>\n",
       "</div>"
      ],
      "text/plain": [
       "     default   default\n",
       "0.0      517  0.738571\n",
       "1.0      183  0.261429"
      ]
     },
     "execution_count": 35,
     "metadata": {},
     "output_type": "execute_result"
    }
   ],
   "source": [
    "# Análisando distribuição da variável categórica 'default' - tabela\n",
    "pd.concat([df['default'].value_counts().to_frame(), df['default'].value_counts(normalize=True).to_frame()], axis=1)"
   ]
  },
  {
   "cell_type": "code",
   "execution_count": 83,
   "id": "eade9b83",
   "metadata": {},
   "outputs": [
    {
     "data": {
      "image/png": "[encoded data removed]",
      "text/plain": [
       "<Figure size 432x288 with 1 Axes>"
      ]
     },
     "metadata": {},
     "output_type": "display_data"
    }
   ],
   "source": [
    "# Análisando distribuição da variável categórica 'default' - gráfico\n",
    "x = df['default'].value_counts().to_list()\n",
    "valores = df['default'].value_counts().index.to_list()\n",
    "\n",
    "plt.pie(x=x, labels=x)\n",
    "plt.title('Valores de \"default\"')\n",
    "plt.legend(valores)\n",
    "plt.savefig('../Imagens/default-pie-plot')\n",
    "plt.show()"
   ]
  },
  {
   "cell_type": "code",
   "execution_count": 38,
   "id": "9d36cae4",
   "metadata": {},
   "outputs": [
    {
     "data": {
      "text/html": [
       "<div>\n",
       "<style scoped>\n",
       "    .dataframe tbody tr th:only-of-type {\n",
       "        vertical-align: middle;\n",
       "    }\n",
       "\n",
       "    .dataframe tbody tr th {\n",
       "        vertical-align: top;\n",
       "    }\n",
       "\n",
       "    .dataframe thead th {\n",
       "        text-align: right;\n",
       "    }\n",
       "</style>\n",
       "<table border=\"1\" class=\"dataframe\">\n",
       "  <thead>\n",
       "    <tr style=\"text-align: right;\">\n",
       "      <th></th>\n",
       "      <th>income</th>\n",
       "    </tr>\n",
       "  </thead>\n",
       "  <tbody>\n",
       "    <tr>\n",
       "      <th>count</th>\n",
       "      <td>1150.000000</td>\n",
       "    </tr>\n",
       "    <tr>\n",
       "      <th>mean</th>\n",
       "      <td>47.982609</td>\n",
       "    </tr>\n",
       "    <tr>\n",
       "      <th>std</th>\n",
       "      <td>40.508814</td>\n",
       "    </tr>\n",
       "    <tr>\n",
       "      <th>min</th>\n",
       "      <td>13.000000</td>\n",
       "    </tr>\n",
       "    <tr>\n",
       "      <th>25%</th>\n",
       "      <td>24.000000</td>\n",
       "    </tr>\n",
       "    <tr>\n",
       "      <th>50%</th>\n",
       "      <td>36.000000</td>\n",
       "    </tr>\n",
       "    <tr>\n",
       "      <th>75%</th>\n",
       "      <td>56.750000</td>\n",
       "    </tr>\n",
       "    <tr>\n",
       "      <th>max</th>\n",
       "      <td>446.000000</td>\n",
       "    </tr>\n",
       "  </tbody>\n",
       "</table>\n",
       "</div>"
      ],
      "text/plain": [
       "            income\n",
       "count  1150.000000\n",
       "mean     47.982609\n",
       "std      40.508814\n",
       "min      13.000000\n",
       "25%      24.000000\n",
       "50%      36.000000\n",
       "75%      56.750000\n",
       "max     446.000000"
      ]
     },
     "metadata": {},
     "output_type": "display_data"
    },
    {
     "name": "stderr",
     "output_type": "stream",
     "text": [
      "[0327/103134.549444:ERROR:sandbox_linux.cc(377)] InitializeSandbox() called with multiple threads in process gpu-process.\n",
      "[0327/103134.711708:WARNING:bluez_dbus_manager.cc(248)] Floss manager not present, cannot set Floss enable/disable.\n",
      "[0327/103134.894284:INFO:headless_shell.cc(659)] Written to file /tmp/tmp38v12ow5/temp.png.\n"
     ]
    }
   ],
   "source": [
    "# Análise descritiva - Income\n",
    "display(df.describe()['income'].to_frame())\n",
    "df_img.export(df.describe()['income'].to_frame(), '../Imagens/describe_income')"
   ]
  },
  {
   "cell_type": "code",
   "execution_count": 39,
   "id": "c28acce6",
   "metadata": {},
   "outputs": [
    {
     "data": {
      "text/html": [
       "<div>\n",
       "<style scoped>\n",
       "    .dataframe tbody tr th:only-of-type {\n",
       "        vertical-align: middle;\n",
       "    }\n",
       "\n",
       "    .dataframe tbody tr th {\n",
       "        vertical-align: top;\n",
       "    }\n",
       "\n",
       "    .dataframe thead th {\n",
       "        text-align: right;\n",
       "    }\n",
       "</style>\n",
       "<table border=\"1\" class=\"dataframe\">\n",
       "  <thead>\n",
       "    <tr style=\"text-align: right;\">\n",
       "      <th></th>\n",
       "      <th>age</th>\n",
       "    </tr>\n",
       "  </thead>\n",
       "  <tbody>\n",
       "    <tr>\n",
       "      <th>count</th>\n",
       "      <td>1150.000000</td>\n",
       "    </tr>\n",
       "    <tr>\n",
       "      <th>mean</th>\n",
       "      <td>35.235652</td>\n",
       "    </tr>\n",
       "    <tr>\n",
       "      <th>std</th>\n",
       "      <td>8.089961</td>\n",
       "    </tr>\n",
       "    <tr>\n",
       "      <th>min</th>\n",
       "      <td>20.000000</td>\n",
       "    </tr>\n",
       "    <tr>\n",
       "      <th>25%</th>\n",
       "      <td>29.000000</td>\n",
       "    </tr>\n",
       "    <tr>\n",
       "      <th>50%</th>\n",
       "      <td>35.000000</td>\n",
       "    </tr>\n",
       "    <tr>\n",
       "      <th>75%</th>\n",
       "      <td>41.000000</td>\n",
       "    </tr>\n",
       "    <tr>\n",
       "      <th>max</th>\n",
       "      <td>56.000000</td>\n",
       "    </tr>\n",
       "  </tbody>\n",
       "</table>\n",
       "</div>"
      ],
      "text/plain": [
       "               age\n",
       "count  1150.000000\n",
       "mean     35.235652\n",
       "std       8.089961\n",
       "min      20.000000\n",
       "25%      29.000000\n",
       "50%      35.000000\n",
       "75%      41.000000\n",
       "max      56.000000"
      ]
     },
     "metadata": {},
     "output_type": "display_data"
    },
    {
     "name": "stderr",
     "output_type": "stream",
     "text": [
      "[0327/103136.120061:ERROR:sandbox_linux.cc(377)] InitializeSandbox() called with multiple threads in process gpu-process.\n",
      "[0327/103136.297821:WARNING:bluez_dbus_manager.cc(248)] Floss manager not present, cannot set Floss enable/disable.\n",
      "[0327/103136.465562:INFO:headless_shell.cc(659)] Written to file /tmp/tmpwku8gej7/temp.png.\n"
     ]
    }
   ],
   "source": [
    "# Análise descritiva - Age\n",
    "display(df.describe()['age'].to_frame())\n",
    "df_img.export(df.describe()['age'].to_frame(), '../Imagens/describe_age')"
   ]
  }
 ],
 "metadata": {
  "kernelspec": {
   "display_name": "Python 3",
   "language": "python",
   "name": "python3"
  },
  "language_info": {
   "codemirror_mode": {
    "name": "ipython",
    "version": 3
   },
   "file_extension": ".py",
   "mimetype": "text/x-python",
   "name": "python",
   "nbconvert_exporter": "python",
   "pygments_lexer": "ipython3",
   "version": "3.7.9"
  }
 },
 "nbformat": 4,
 "nbformat_minor": 5
}
