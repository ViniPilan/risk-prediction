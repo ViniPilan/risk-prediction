{
 "cells": [
  {
   "cell_type": "code",
   "execution_count": 1,
   "id": "5fc62241",
   "metadata": {},
   "outputs": [],
   "source": [
    "import numpy as np\n",
    "import pandas as pd\n",
    "import matplotlib.pyplot as plt\n",
    "import seaborn as sns"
   ]
  },
  {
   "cell_type": "markdown",
   "id": "7869316e",
   "metadata": {},
   "source": [
    "# O que falta fazer\n",
    "\n",
    "- Extrair colunas das variáveis categóricas\n",
    "- Hyperparameters tuning\n",
    "- Defininr random seed\n",
    "- Analisar tipo de erro melhor pro problema\n",
    "- Matriz de confusão"
   ]
  },
  {
   "cell_type": "markdown",
   "id": "9aeb064a",
   "metadata": {},
   "source": [
    "## Importando dados"
   ]
  },
  {
   "cell_type": "code",
   "execution_count": 2,
   "id": "bb21320e",
   "metadata": {},
   "outputs": [
    {
     "data": {
      "text/html": [
       "<div>\n",
       "<style scoped>\n",
       "    .dataframe tbody tr th:only-of-type {\n",
       "        vertical-align: middle;\n",
       "    }\n",
       "\n",
       "    .dataframe tbody tr th {\n",
       "        vertical-align: top;\n",
       "    }\n",
       "\n",
       "    .dataframe thead th {\n",
       "        text-align: right;\n",
       "    }\n",
       "</style>\n",
       "<table border=\"1\" class=\"dataframe\">\n",
       "  <thead>\n",
       "    <tr style=\"text-align: right;\">\n",
       "      <th></th>\n",
       "      <th>age</th>\n",
       "      <th>ed</th>\n",
       "      <th>employ</th>\n",
       "      <th>address</th>\n",
       "      <th>income</th>\n",
       "      <th>debtinc</th>\n",
       "      <th>creddebt</th>\n",
       "      <th>othdebt</th>\n",
       "      <th>default</th>\n",
       "    </tr>\n",
       "  </thead>\n",
       "  <tbody>\n",
       "    <tr>\n",
       "      <th>0</th>\n",
       "      <td>41</td>\n",
       "      <td>3</td>\n",
       "      <td>17</td>\n",
       "      <td>12</td>\n",
       "      <td>176</td>\n",
       "      <td>9.3</td>\n",
       "      <td>11.359392</td>\n",
       "      <td>5.008608</td>\n",
       "      <td>1.0</td>\n",
       "    </tr>\n",
       "    <tr>\n",
       "      <th>1</th>\n",
       "      <td>27</td>\n",
       "      <td>1</td>\n",
       "      <td>10</td>\n",
       "      <td>6</td>\n",
       "      <td>31</td>\n",
       "      <td>17.3</td>\n",
       "      <td>1.362202</td>\n",
       "      <td>4.000798</td>\n",
       "      <td>0.0</td>\n",
       "    </tr>\n",
       "    <tr>\n",
       "      <th>2</th>\n",
       "      <td>40</td>\n",
       "      <td>1</td>\n",
       "      <td>15</td>\n",
       "      <td>14</td>\n",
       "      <td>55</td>\n",
       "      <td>5.5</td>\n",
       "      <td>0.856075</td>\n",
       "      <td>2.168925</td>\n",
       "      <td>0.0</td>\n",
       "    </tr>\n",
       "    <tr>\n",
       "      <th>3</th>\n",
       "      <td>41</td>\n",
       "      <td>1</td>\n",
       "      <td>15</td>\n",
       "      <td>14</td>\n",
       "      <td>120</td>\n",
       "      <td>2.9</td>\n",
       "      <td>2.658720</td>\n",
       "      <td>0.821280</td>\n",
       "      <td>0.0</td>\n",
       "    </tr>\n",
       "    <tr>\n",
       "      <th>4</th>\n",
       "      <td>24</td>\n",
       "      <td>2</td>\n",
       "      <td>2</td>\n",
       "      <td>0</td>\n",
       "      <td>28</td>\n",
       "      <td>17.3</td>\n",
       "      <td>1.787436</td>\n",
       "      <td>3.056564</td>\n",
       "      <td>1.0</td>\n",
       "    </tr>\n",
       "  </tbody>\n",
       "</table>\n",
       "</div>"
      ],
      "text/plain": [
       "   age  ed  employ  address  income  debtinc   creddebt   othdebt  default\n",
       "0   41   3      17       12     176      9.3  11.359392  5.008608      1.0\n",
       "1   27   1      10        6      31     17.3   1.362202  4.000798      0.0\n",
       "2   40   1      15       14      55      5.5   0.856075  2.168925      0.0\n",
       "3   41   1      15       14     120      2.9   2.658720  0.821280      0.0\n",
       "4   24   2       2        0      28     17.3   1.787436  3.056564      1.0"
      ]
     },
     "execution_count": 2,
     "metadata": {},
     "output_type": "execute_result"
    }
   ],
   "source": [
    "df = pd.read_csv('../Dados/bankloans.csv')\n",
    "df.head()"
   ]
  },
  {
   "cell_type": "code",
   "execution_count": 3,
   "id": "f432acfb",
   "metadata": {},
   "outputs": [
    {
     "name": "stdout",
     "output_type": "stream",
     "text": [
      "<class 'pandas.core.frame.DataFrame'>\n",
      "RangeIndex: 1150 entries, 0 to 1149\n",
      "Data columns (total 9 columns):\n",
      " #   Column    Non-Null Count  Dtype  \n",
      "---  ------    --------------  -----  \n",
      " 0   age       1150 non-null   int64  \n",
      " 1   ed        1150 non-null   int64  \n",
      " 2   employ    1150 non-null   int64  \n",
      " 3   address   1150 non-null   int64  \n",
      " 4   income    1150 non-null   int64  \n",
      " 5   debtinc   1150 non-null   float64\n",
      " 6   creddebt  1150 non-null   float64\n",
      " 7   othdebt   1150 non-null   float64\n",
      " 8   default   700 non-null    float64\n",
      "dtypes: float64(4), int64(5)\n",
      "memory usage: 81.0 KB\n"
     ]
    }
   ],
   "source": [
    "df.info()"
   ]
  },
  {
   "cell_type": "markdown",
   "id": "7a9356b2",
   "metadata": {},
   "source": [
    "## Pré processamento"
   ]
  },
  {
   "cell_type": "markdown",
   "id": "a376b31a",
   "metadata": {},
   "source": [
    "### Tratamento de dados nulos"
   ]
  },
  {
   "cell_type": "code",
   "execution_count": 4,
   "id": "2e2776e6",
   "metadata": {},
   "outputs": [],
   "source": [
    "df.dropna(how='any', inplace=True)"
   ]
  },
  {
   "cell_type": "markdown",
   "id": "6bbea244",
   "metadata": {},
   "source": [
    "### Balanceamento da feature 'default'"
   ]
  },
  {
   "cell_type": "code",
   "execution_count": 5,
   "id": "521d6d29",
   "metadata": {},
   "outputs": [
    {
     "data": {
      "text/plain": [
       "0.0    0.738571\n",
       "1.0    0.261429\n",
       "Name: default, dtype: float64"
      ]
     },
     "execution_count": 5,
     "metadata": {},
     "output_type": "execute_result"
    }
   ],
   "source": [
    "df['default'].value_counts(normalize=True)"
   ]
  },
  {
   "cell_type": "code",
   "execution_count": 6,
   "id": "6c82cb69",
   "metadata": {},
   "outputs": [],
   "source": [
    "# Undersampling nos dados default == 0:\n",
    "#    tamanho do df default == 0 se reduz a um pouco menos que o dobro (1.75) do tamanho do df default == 1\n",
    "\n",
    "i_zero = np.random.choice(df.query('default == 0').index.to_list(),\n",
    "                          int(1.75*len(df.query('default == 1').index.to_list())))\n",
    "\n",
    "df = pd.concat([df.query('default == 0').loc[i_zero], df.query('default == 1')], axis=0)"
   ]
  },
  {
   "cell_type": "markdown",
   "id": "954ec859",
   "metadata": {},
   "source": [
    "### Feature Engineering"
   ]
  },
  {
   "cell_type": "code",
   "execution_count": 7,
   "id": "825ff936",
   "metadata": {},
   "outputs": [
    {
     "data": {
      "text/plain": [
       "1    271\n",
       "2    138\n",
       "3     62\n",
       "4     26\n",
       "5      6\n",
       "Name: ed, dtype: int64"
      ]
     },
     "execution_count": 7,
     "metadata": {},
     "output_type": "execute_result"
    }
   ],
   "source": [
    "df['ed'].value_counts()"
   ]
  },
  {
   "cell_type": "code",
   "execution_count": 8,
   "id": "2d2ccd04",
   "metadata": {},
   "outputs": [],
   "source": [
    "# Extraindo colunas da feature categórica 'ed'\n",
    "\n",
    "df['ed_1'] = df['ed'].apply(lambda x:1 if x==1 else 0)\n",
    "#df['ed_2'] = df['ed'].apply(lambda x:1 if x==2 else 0)\n",
    "df.drop('ed', axis=1, inplace=True)"
   ]
  },
  {
   "cell_type": "code",
   "execution_count": 9,
   "id": "dd25309f",
   "metadata": {},
   "outputs": [
    {
     "data": {
      "text/plain": [
       "count    503.000000\n",
       "mean       7.874751\n",
       "std        6.743613\n",
       "min        0.000000\n",
       "25%        2.000000\n",
       "50%        6.000000\n",
       "75%       11.000000\n",
       "max       34.000000\n",
       "Name: address, dtype: float64"
      ]
     },
     "execution_count": 9,
     "metadata": {},
     "output_type": "execute_result"
    }
   ],
   "source": [
    "df['address'].value_counts()"
   ]
  },
  {
   "cell_type": "code",
   "execution_count": 20,
   "id": "323c87b1",
   "metadata": {},
   "outputs": [
    {
     "data": {
      "text/plain": [
       "0     53\n",
       "5     36\n",
       "1     35\n",
       "7     33\n",
       "2     32\n",
       "6     32\n",
       "4     30\n",
       "9     30\n",
       "3     27\n",
       "11    23\n",
       "10    22\n",
       "12    21\n",
       "13    21\n",
       "8     16\n",
       "22    15\n",
       "19    11\n",
       "16    11\n",
       "15    10\n",
       "14     9\n",
       "18     8\n",
       "17     7\n",
       "20     5\n",
       "21     3\n",
       "30     3\n",
       "23     3\n",
       "25     2\n",
       "26     1\n",
       "27     1\n",
       "24     1\n",
       "29     1\n",
       "31     1\n",
       "Name: employ, dtype: int64"
      ]
     },
     "execution_count": 20,
     "metadata": {},
     "output_type": "execute_result"
    }
   ],
   "source": [
    "df['employ'].value_counts()"
   ]
  },
  {
   "cell_type": "markdown",
   "id": "b1aeb406",
   "metadata": {},
   "source": [
    "## Processamento"
   ]
  },
  {
   "cell_type": "markdown",
   "id": "58f9ee1c",
   "metadata": {},
   "source": [
    "### Analisando correlações para restringir colunas se necessário"
   ]
  },
  {
   "cell_type": "code",
   "execution_count": 10,
   "id": "ce6868ef",
   "metadata": {},
   "outputs": [
    {
     "data": {
      "text/html": [
       "<div>\n",
       "<style scoped>\n",
       "    .dataframe tbody tr th:only-of-type {\n",
       "        vertical-align: middle;\n",
       "    }\n",
       "\n",
       "    .dataframe tbody tr th {\n",
       "        vertical-align: top;\n",
       "    }\n",
       "\n",
       "    .dataframe thead th {\n",
       "        text-align: right;\n",
       "    }\n",
       "</style>\n",
       "<table border=\"1\" class=\"dataframe\">\n",
       "  <thead>\n",
       "    <tr style=\"text-align: right;\">\n",
       "      <th></th>\n",
       "      <th>default</th>\n",
       "    </tr>\n",
       "  </thead>\n",
       "  <tbody>\n",
       "    <tr>\n",
       "      <th>default</th>\n",
       "      <td>1.000000</td>\n",
       "    </tr>\n",
       "    <tr>\n",
       "      <th>debtinc</th>\n",
       "      <td>0.405096</td>\n",
       "    </tr>\n",
       "    <tr>\n",
       "      <th>employ</th>\n",
       "      <td>0.325460</td>\n",
       "    </tr>\n",
       "    <tr>\n",
       "      <th>creddebt</th>\n",
       "      <td>0.240544</td>\n",
       "    </tr>\n",
       "    <tr>\n",
       "      <th>address</th>\n",
       "      <td>0.166278</td>\n",
       "    </tr>\n",
       "    <tr>\n",
       "      <th>ed_1</th>\n",
       "      <td>0.162432</td>\n",
       "    </tr>\n",
       "    <tr>\n",
       "      <th>othdebt</th>\n",
       "      <td>0.142945</td>\n",
       "    </tr>\n",
       "    <tr>\n",
       "      <th>age</th>\n",
       "      <td>0.131931</td>\n",
       "    </tr>\n",
       "    <tr>\n",
       "      <th>income</th>\n",
       "      <td>0.094028</td>\n",
       "    </tr>\n",
       "  </tbody>\n",
       "</table>\n",
       "</div>"
      ],
      "text/plain": [
       "           default\n",
       "default   1.000000\n",
       "debtinc   0.405096\n",
       "employ    0.325460\n",
       "creddebt  0.240544\n",
       "address   0.166278\n",
       "ed_1      0.162432\n",
       "othdebt   0.142945\n",
       "age       0.131931\n",
       "income    0.094028"
      ]
     },
     "execution_count": 10,
     "metadata": {},
     "output_type": "execute_result"
    }
   ],
   "source": [
    "df.corr()['default'].apply(lambda x:x if x>=0 else -x).sort_values(ascending=False).to_frame()"
   ]
  },
  {
   "cell_type": "markdown",
   "id": "b21abdcf",
   "metadata": {},
   "source": [
    "### Separação e normalização dos dados"
   ]
  },
  {
   "cell_type": "code",
   "execution_count": 11,
   "id": "dadcac99",
   "metadata": {},
   "outputs": [],
   "source": [
    "from sklearn.model_selection import train_test_split\n",
    "from sklearn.preprocessing import StandardScaler\n",
    "\n",
    "X = df.drop(columns={'default'})\n",
    "y = df['default']\n",
    "\n",
    "X_train, X_test, y_train, y_test = train_test_split(X, y, test_size=0.35, random_state=13)\n",
    "\n",
    "scaler = StandardScaler()\n",
    "\n",
    "X_train = scaler.fit_transform(X_train)\n",
    "X_test = scaler.transform(X_test)"
   ]
  },
  {
   "cell_type": "markdown",
   "id": "d8e54607",
   "metadata": {},
   "source": [
    "### Modelagem"
   ]
  },
  {
   "cell_type": "code",
   "execution_count": 12,
   "id": "b35cc5f8",
   "metadata": {},
   "outputs": [],
   "source": [
    "results = {}"
   ]
  },
  {
   "cell_type": "markdown",
   "id": "d8597cb3",
   "metadata": {},
   "source": [
    "#### Usando Regressão Logística"
   ]
  },
  {
   "cell_type": "code",
   "execution_count": 13,
   "id": "89e5290a",
   "metadata": {},
   "outputs": [],
   "source": [
    "from sklearn.linear_model import LogisticRegression\n",
    "\n",
    "lr_model = LogisticRegression()\n",
    "\n",
    "lr_model.fit(X_train, y_train)\n",
    "\n",
    "y_hat = lr_model.predict(X_test)\n",
    "\n",
    "results['LR'] = y_hat"
   ]
  },
  {
   "cell_type": "markdown",
   "id": "92982532",
   "metadata": {},
   "source": [
    "#### Usando Support Vector Classifier"
   ]
  },
  {
   "cell_type": "code",
   "execution_count": 14,
   "id": "e3b0109a",
   "metadata": {},
   "outputs": [],
   "source": [
    "from sklearn.svm import SVC\n",
    "\n",
    "svc_model = SVC()\n",
    "\n",
    "svc_model.fit(X_train, y_train)\n",
    "\n",
    "y_hat = svc_model.predict(X_test)\n",
    "\n",
    "results['SVC'] = y_hat"
   ]
  },
  {
   "cell_type": "markdown",
   "id": "bc522c5a",
   "metadata": {},
   "source": [
    "#### Usando árvore de decisão"
   ]
  },
  {
   "cell_type": "code",
   "execution_count": 15,
   "id": "bb325f76",
   "metadata": {},
   "outputs": [],
   "source": [
    "from sklearn.tree import DecisionTreeClassifier\n",
    "\n",
    "tree_model = DecisionTreeClassifier()\n",
    "\n",
    "tree_model.fit(X_train, y_train)\n",
    "\n",
    "y_hat = tree_model.predict(X_test)\n",
    "\n",
    "results['TREE'] = y_hat"
   ]
  },
  {
   "cell_type": "markdown",
   "id": "dcdf7092",
   "metadata": {},
   "source": [
    "#### Usando K Vizinhos Próximos (K nearest neighbors)"
   ]
  },
  {
   "cell_type": "code",
   "execution_count": 16,
   "id": "ad822341",
   "metadata": {},
   "outputs": [],
   "source": [
    "from sklearn.neighbors import KNeighborsClassifier\n",
    "\n",
    "knn_model = KNeighborsClassifier()\n",
    "\n",
    "knn_model.fit(X_train, y_train)\n",
    "\n",
    "y_hat = knn_model.predict(X_test)\n",
    "\n",
    "results['KNN'] = y_hat"
   ]
  },
  {
   "cell_type": "markdown",
   "id": "8d2cc908",
   "metadata": {},
   "source": [
    "#### Usando SGDClassifier"
   ]
  },
  {
   "cell_type": "code",
   "execution_count": 17,
   "id": "27dd8d47",
   "metadata": {},
   "outputs": [],
   "source": [
    "from sklearn.linear_model import SGDClassifier\n",
    "\n",
    "sgdc_model = SGDClassifier()\n",
    "\n",
    "sgdc_model.fit(X_train, y_train)\n",
    "\n",
    "y_hat = sgdc_model.predict(X_test)\n",
    "\n",
    "results['SGDC'] = y_hat"
   ]
  },
  {
   "cell_type": "markdown",
   "id": "e8f3029e",
   "metadata": {},
   "source": [
    "### Evaluation"
   ]
  },
  {
   "cell_type": "code",
   "execution_count": 18,
   "id": "2b0df7c1",
   "metadata": {},
   "outputs": [
    {
     "name": "stdout",
     "output_type": "stream",
     "text": [
      "Precisão de treino\n",
      "\n",
      "Logistic Regression:  0.7450980392156863\n",
      "Support Vector Class.:  0.8461538461538461\n",
      "Decision Tree Class.:  1.0\n",
      "K Nearest Neighbors:  0.8043478260869565\n",
      "SGD Classifier:  0.6397058823529411\n"
     ]
    }
   ],
   "source": [
    "from sklearn.metrics import precision_score\n",
    "\n",
    "print('Precisão de treino\\n')\n",
    "print('Logistic Regression: ', precision_score(y_true=y_train, y_pred=lr_model.predict(X_train)))\n",
    "print('Support Vector Class.: ', precision_score(y_true=y_train, y_pred=svc_model.predict(X_train)))\n",
    "print('Decision Tree Class.: ', precision_score(y_true=y_train, y_pred=tree_model.predict(X_train)))\n",
    "print('K Nearest Neighbors: ', precision_score(y_true=y_train, y_pred=knn_model.predict(X_train)))\n",
    "print('SGD Classifier: ', precision_score(y_true=y_train, y_pred=sgdc_model.predict(X_train)))"
   ]
  },
  {
   "cell_type": "code",
   "execution_count": 19,
   "id": "d70f1164",
   "metadata": {},
   "outputs": [
    {
     "name": "stdout",
     "output_type": "stream",
     "text": [
      "Precisão de teste\n",
      "\n",
      "Logistic Regression:  0.7368421052631579\n",
      "Support Vector Class.:  0.782608695652174\n",
      "Decision Tree Class.:  0.6545454545454545\n",
      "K Nearest Neighbors:  0.7586206896551724\n",
      "SGD Classifier:  0.6533333333333333\n"
     ]
    }
   ],
   "source": [
    "print('Precisão de teste\\n')\n",
    "print('Logistic Regression: ', precision_score(y_true=y_test, y_pred=results['LR']))\n",
    "print('Support Vector Class.: ', precision_score(y_true=y_test, y_pred=results['SVC']))\n",
    "print('Decision Tree Class.: ', precision_score(y_true=y_test, y_pred=results['TREE']))\n",
    "print('K Nearest Neighbors: ', precision_score(y_true=y_test, y_pred=results['KNN']))\n",
    "print('SGD Classifier: ', precision_score(y_true=y_test, y_pred=results['SGDC']))"
   ]
  },
  {
   "cell_type": "markdown",
   "id": "db69fbd7",
   "metadata": {},
   "source": [
    "Precisão de teste\n",
    "\n",
    "Logistic Regression:  0.7213114754098361\n",
    "Support Vector Class.:  0.72\n",
    "Decision Tree Class.:  0.6666666666666666\n",
    "K Nearest Neighbors:  0.6885245901639344\n",
    "SGD Classifier:  0.6923076923076923"
   ]
  }
 ],
 "metadata": {
  "kernelspec": {
   "display_name": "Python 3 (ipykernel)",
   "language": "python",
   "name": "python3"
  },
  "language_info": {
   "codemirror_mode": {
    "name": "ipython",
    "version": 3
   },
   "file_extension": ".py",
   "mimetype": "text/x-python",
   "name": "python",
   "nbconvert_exporter": "python",
   "pygments_lexer": "ipython3",
   "version": "3.9.7"
  }
 },
 "nbformat": 4,
 "nbformat_minor": 5
}
