{
 "cells": [
  {
   "cell_type": "markdown",
   "id": "5ae37d8d",
   "metadata": {},
   "source": [
    "# Modeling\n",
    "\n",
    "Este documento contém toda a parte de modelagem do modelo preditivo, desde as modificações do data set até o armazenamento do melhor modelo criado:\n",
    "\n",
    "1. [Importando dados](#Importando-dados)\n",
    "\n",
    "\n",
    "2. [Pré processamento](#Pré-processamento)\n",
    "    - Tratamento de dados nulos\n",
    "    - Balanceamento da feature 'default'\n",
    "    - Feature Engineering\n",
    "    \n",
    "    \n",
    "3. [Processamento](#Processamento)\n",
    "    - Analisando correlações para restringir colunas se necessário\n",
    "    - Separação e normalização dos dados\n",
    "    \n",
    "    \n",
    "4. [Modelagem (Com hyperpam. tuning)](#Modelagem-(Com-hyperpam.-tuning))\n",
    "    - Usando Regressão Logística\n",
    "    - Usando Support Vector Classifier\n",
    "    - Usando árvore de decisão\n",
    "    - Usando K Vizinhos Próximos (K nearest neighbors)\n",
    "    - Usando SGDClassifier\n",
    "    - Usando SGDClassifier\n",
    "    \n",
    "\n",
    "5. [Models Evaluation (avaliação dos modelos)](#Models-Evaluation-(avaliação-dos-modelos))\n",
    "    - Precisão\n",
    "    - Recall\n",
    "    - F1-Score\n",
    "    - Matriz de Confusão\n",
    "    \n",
    "    \n",
    "6. [Salvando modelo](#Salvando-modelo)\n"
   ]
  },
  {
   "cell_type": "code",
   "execution_count": 1,
   "id": "e53730e1",
   "metadata": {},
   "outputs": [],
   "source": [
    "import numpy as np\n",
    "import pandas as pd\n",
    "import matplotlib.pyplot as plt\n",
    "import seaborn as sns\n",
    "\n",
    "\n",
    "#Seed uzada para todos os randoms\n",
    "seed = 7\n",
    "np.random.seed(seed)\n",
    "\n",
    "#Estilo dos gráficos\n",
    "sns.set_style('whitegrid')"
   ]
  },
  {
   "cell_type": "markdown",
   "id": "9aeb064a",
   "metadata": {},
   "source": [
    "## Importando dados"
   ]
  },
  {
   "cell_type": "code",
   "execution_count": 2,
   "id": "bb21320e",
   "metadata": {
    "scrolled": true
   },
   "outputs": [],
   "source": [
    "df = pd.read_csv('../Dados/bankloans.csv')"
   ]
  },
  {
   "cell_type": "code",
   "execution_count": 3,
   "id": "de9d0c7c",
   "metadata": {},
   "outputs": [
    {
     "data": {
      "text/html": [
       "<div>\n",
       "<style scoped>\n",
       "    .dataframe tbody tr th:only-of-type {\n",
       "        vertical-align: middle;\n",
       "    }\n",
       "\n",
       "    .dataframe tbody tr th {\n",
       "        vertical-align: top;\n",
       "    }\n",
       "\n",
       "    .dataframe thead th {\n",
       "        text-align: right;\n",
       "    }\n",
       "</style>\n",
       "<table border=\"1\" class=\"dataframe\">\n",
       "  <thead>\n",
       "    <tr style=\"text-align: right;\">\n",
       "      <th></th>\n",
       "      <th>age</th>\n",
       "      <th>ed</th>\n",
       "      <th>employ</th>\n",
       "      <th>address</th>\n",
       "      <th>income</th>\n",
       "      <th>debtinc</th>\n",
       "      <th>creddebt</th>\n",
       "      <th>othdebt</th>\n",
       "      <th>default</th>\n",
       "    </tr>\n",
       "  </thead>\n",
       "  <tbody>\n",
       "    <tr>\n",
       "      <th>1</th>\n",
       "      <td>27</td>\n",
       "      <td>1</td>\n",
       "      <td>10</td>\n",
       "      <td>6</td>\n",
       "      <td>31</td>\n",
       "      <td>17.3</td>\n",
       "      <td>1.362202</td>\n",
       "      <td>4.000798</td>\n",
       "      <td>0.0</td>\n",
       "    </tr>\n",
       "    <tr>\n",
       "      <th>2</th>\n",
       "      <td>40</td>\n",
       "      <td>1</td>\n",
       "      <td>15</td>\n",
       "      <td>14</td>\n",
       "      <td>55</td>\n",
       "      <td>5.5</td>\n",
       "      <td>0.856075</td>\n",
       "      <td>2.168925</td>\n",
       "      <td>0.0</td>\n",
       "    </tr>\n",
       "    <tr>\n",
       "      <th>3</th>\n",
       "      <td>41</td>\n",
       "      <td>1</td>\n",
       "      <td>15</td>\n",
       "      <td>14</td>\n",
       "      <td>120</td>\n",
       "      <td>2.9</td>\n",
       "      <td>2.658720</td>\n",
       "      <td>0.821280</td>\n",
       "      <td>0.0</td>\n",
       "    </tr>\n",
       "    <tr>\n",
       "      <th>5</th>\n",
       "      <td>41</td>\n",
       "      <td>2</td>\n",
       "      <td>5</td>\n",
       "      <td>5</td>\n",
       "      <td>25</td>\n",
       "      <td>10.2</td>\n",
       "      <td>0.392700</td>\n",
       "      <td>2.157300</td>\n",
       "      <td>0.0</td>\n",
       "    </tr>\n",
       "    <tr>\n",
       "      <th>6</th>\n",
       "      <td>39</td>\n",
       "      <td>1</td>\n",
       "      <td>20</td>\n",
       "      <td>9</td>\n",
       "      <td>67</td>\n",
       "      <td>30.6</td>\n",
       "      <td>3.833874</td>\n",
       "      <td>16.668126</td>\n",
       "      <td>0.0</td>\n",
       "    </tr>\n",
       "    <tr>\n",
       "      <th>...</th>\n",
       "      <td>...</td>\n",
       "      <td>...</td>\n",
       "      <td>...</td>\n",
       "      <td>...</td>\n",
       "      <td>...</td>\n",
       "      <td>...</td>\n",
       "      <td>...</td>\n",
       "      <td>...</td>\n",
       "      <td>...</td>\n",
       "    </tr>\n",
       "    <tr>\n",
       "      <th>694</th>\n",
       "      <td>48</td>\n",
       "      <td>2</td>\n",
       "      <td>6</td>\n",
       "      <td>1</td>\n",
       "      <td>66</td>\n",
       "      <td>12.1</td>\n",
       "      <td>2.315940</td>\n",
       "      <td>5.670060</td>\n",
       "      <td>0.0</td>\n",
       "    </tr>\n",
       "    <tr>\n",
       "      <th>696</th>\n",
       "      <td>29</td>\n",
       "      <td>2</td>\n",
       "      <td>6</td>\n",
       "      <td>4</td>\n",
       "      <td>21</td>\n",
       "      <td>11.5</td>\n",
       "      <td>0.369495</td>\n",
       "      <td>2.045505</td>\n",
       "      <td>0.0</td>\n",
       "    </tr>\n",
       "    <tr>\n",
       "      <th>697</th>\n",
       "      <td>33</td>\n",
       "      <td>1</td>\n",
       "      <td>15</td>\n",
       "      <td>3</td>\n",
       "      <td>32</td>\n",
       "      <td>7.6</td>\n",
       "      <td>0.491264</td>\n",
       "      <td>1.940736</td>\n",
       "      <td>0.0</td>\n",
       "    </tr>\n",
       "    <tr>\n",
       "      <th>698</th>\n",
       "      <td>45</td>\n",
       "      <td>1</td>\n",
       "      <td>19</td>\n",
       "      <td>22</td>\n",
       "      <td>77</td>\n",
       "      <td>8.4</td>\n",
       "      <td>2.302608</td>\n",
       "      <td>4.165392</td>\n",
       "      <td>0.0</td>\n",
       "    </tr>\n",
       "    <tr>\n",
       "      <th>699</th>\n",
       "      <td>37</td>\n",
       "      <td>1</td>\n",
       "      <td>12</td>\n",
       "      <td>14</td>\n",
       "      <td>44</td>\n",
       "      <td>14.7</td>\n",
       "      <td>2.994684</td>\n",
       "      <td>3.473316</td>\n",
       "      <td>0.0</td>\n",
       "    </tr>\n",
       "  </tbody>\n",
       "</table>\n",
       "<p>517 rows × 9 columns</p>\n",
       "</div>"
      ],
      "text/plain": [
       "     age  ed  employ  address  income  debtinc  creddebt    othdebt  default\n",
       "1     27   1      10        6      31     17.3  1.362202   4.000798      0.0\n",
       "2     40   1      15       14      55      5.5  0.856075   2.168925      0.0\n",
       "3     41   1      15       14     120      2.9  2.658720   0.821280      0.0\n",
       "5     41   2       5        5      25     10.2  0.392700   2.157300      0.0\n",
       "6     39   1      20        9      67     30.6  3.833874  16.668126      0.0\n",
       "..   ...  ..     ...      ...     ...      ...       ...        ...      ...\n",
       "694   48   2       6        1      66     12.1  2.315940   5.670060      0.0\n",
       "696   29   2       6        4      21     11.5  0.369495   2.045505      0.0\n",
       "697   33   1      15        3      32      7.6  0.491264   1.940736      0.0\n",
       "698   45   1      19       22      77      8.4  2.302608   4.165392      0.0\n",
       "699   37   1      12       14      44     14.7  2.994684   3.473316      0.0\n",
       "\n",
       "[517 rows x 9 columns]"
      ]
     },
     "execution_count": 3,
     "metadata": {},
     "output_type": "execute_result"
    }
   ],
   "source": [
    "df.query('default == 0')"
   ]
  },
  {
   "cell_type": "code",
   "execution_count": 4,
   "id": "f83e0a6f",
   "metadata": {},
   "outputs": [
    {
     "data": {
      "text/html": [
       "<div>\n",
       "<style scoped>\n",
       "    .dataframe tbody tr th:only-of-type {\n",
       "        vertical-align: middle;\n",
       "    }\n",
       "\n",
       "    .dataframe tbody tr th {\n",
       "        vertical-align: top;\n",
       "    }\n",
       "\n",
       "    .dataframe thead th {\n",
       "        text-align: right;\n",
       "    }\n",
       "</style>\n",
       "<table border=\"1\" class=\"dataframe\">\n",
       "  <thead>\n",
       "    <tr style=\"text-align: right;\">\n",
       "      <th></th>\n",
       "      <th>age</th>\n",
       "      <th>ed</th>\n",
       "      <th>employ</th>\n",
       "      <th>address</th>\n",
       "      <th>income</th>\n",
       "      <th>debtinc</th>\n",
       "      <th>creddebt</th>\n",
       "      <th>othdebt</th>\n",
       "      <th>default</th>\n",
       "    </tr>\n",
       "  </thead>\n",
       "  <tbody>\n",
       "    <tr>\n",
       "      <th>0</th>\n",
       "      <td>41</td>\n",
       "      <td>3</td>\n",
       "      <td>17</td>\n",
       "      <td>12</td>\n",
       "      <td>176</td>\n",
       "      <td>9.3</td>\n",
       "      <td>11.359392</td>\n",
       "      <td>5.008608</td>\n",
       "      <td>1.0</td>\n",
       "    </tr>\n",
       "    <tr>\n",
       "      <th>1</th>\n",
       "      <td>27</td>\n",
       "      <td>1</td>\n",
       "      <td>10</td>\n",
       "      <td>6</td>\n",
       "      <td>31</td>\n",
       "      <td>17.3</td>\n",
       "      <td>1.362202</td>\n",
       "      <td>4.000798</td>\n",
       "      <td>0.0</td>\n",
       "    </tr>\n",
       "    <tr>\n",
       "      <th>2</th>\n",
       "      <td>40</td>\n",
       "      <td>1</td>\n",
       "      <td>15</td>\n",
       "      <td>14</td>\n",
       "      <td>55</td>\n",
       "      <td>5.5</td>\n",
       "      <td>0.856075</td>\n",
       "      <td>2.168925</td>\n",
       "      <td>0.0</td>\n",
       "    </tr>\n",
       "    <tr>\n",
       "      <th>3</th>\n",
       "      <td>41</td>\n",
       "      <td>1</td>\n",
       "      <td>15</td>\n",
       "      <td>14</td>\n",
       "      <td>120</td>\n",
       "      <td>2.9</td>\n",
       "      <td>2.658720</td>\n",
       "      <td>0.821280</td>\n",
       "      <td>0.0</td>\n",
       "    </tr>\n",
       "    <tr>\n",
       "      <th>4</th>\n",
       "      <td>24</td>\n",
       "      <td>2</td>\n",
       "      <td>2</td>\n",
       "      <td>0</td>\n",
       "      <td>28</td>\n",
       "      <td>17.3</td>\n",
       "      <td>1.787436</td>\n",
       "      <td>3.056564</td>\n",
       "      <td>1.0</td>\n",
       "    </tr>\n",
       "  </tbody>\n",
       "</table>\n",
       "</div>"
      ],
      "text/plain": [
       "   age  ed  employ  address  income  debtinc   creddebt   othdebt  default\n",
       "0   41   3      17       12     176      9.3  11.359392  5.008608      1.0\n",
       "1   27   1      10        6      31     17.3   1.362202  4.000798      0.0\n",
       "2   40   1      15       14      55      5.5   0.856075  2.168925      0.0\n",
       "3   41   1      15       14     120      2.9   2.658720  0.821280      0.0\n",
       "4   24   2       2        0      28     17.3   1.787436  3.056564      1.0"
      ]
     },
     "execution_count": 4,
     "metadata": {},
     "output_type": "execute_result"
    }
   ],
   "source": [
    "df.head()"
   ]
  },
  {
   "cell_type": "code",
   "execution_count": 5,
   "id": "f432acfb",
   "metadata": {},
   "outputs": [
    {
     "name": "stdout",
     "output_type": "stream",
     "text": [
      "<class 'pandas.core.frame.DataFrame'>\n",
      "RangeIndex: 1150 entries, 0 to 1149\n",
      "Data columns (total 9 columns):\n",
      " #   Column    Non-Null Count  Dtype  \n",
      "---  ------    --------------  -----  \n",
      " 0   age       1150 non-null   int64  \n",
      " 1   ed        1150 non-null   int64  \n",
      " 2   employ    1150 non-null   int64  \n",
      " 3   address   1150 non-null   int64  \n",
      " 4   income    1150 non-null   int64  \n",
      " 5   debtinc   1150 non-null   float64\n",
      " 6   creddebt  1150 non-null   float64\n",
      " 7   othdebt   1150 non-null   float64\n",
      " 8   default   700 non-null    float64\n",
      "dtypes: float64(4), int64(5)\n",
      "memory usage: 81.0 KB\n"
     ]
    }
   ],
   "source": [
    "df.info()"
   ]
  },
  {
   "cell_type": "markdown",
   "id": "7a9356b2",
   "metadata": {},
   "source": [
    "## Pré processamento"
   ]
  },
  {
   "cell_type": "markdown",
   "id": "a376b31a",
   "metadata": {},
   "source": [
    "### Tratamento de dados nulos"
   ]
  },
  {
   "cell_type": "code",
   "execution_count": 6,
   "id": "2e2776e6",
   "metadata": {},
   "outputs": [],
   "source": [
    "df.dropna(how='any', inplace=True)"
   ]
  },
  {
   "cell_type": "markdown",
   "id": "6bbea244",
   "metadata": {},
   "source": [
    "### Balanceamento da feature 'default'"
   ]
  },
  {
   "cell_type": "code",
   "execution_count": 7,
   "id": "521d6d29",
   "metadata": {},
   "outputs": [
    {
     "data": {
      "text/plain": [
       "0.0    0.738571\n",
       "1.0    0.261429\n",
       "Name: default, dtype: float64"
      ]
     },
     "execution_count": 7,
     "metadata": {},
     "output_type": "execute_result"
    }
   ],
   "source": [
    "df['default'].value_counts(normalize=True)"
   ]
  },
  {
   "cell_type": "code",
   "execution_count": 8,
   "id": "92a00c0a",
   "metadata": {},
   "outputs": [
    {
     "data": {
      "text/plain": [
       "0.0    517\n",
       "1.0    183\n",
       "Name: default, dtype: int64"
      ]
     },
     "execution_count": 8,
     "metadata": {},
     "output_type": "execute_result"
    }
   ],
   "source": [
    "df['default'].value_counts(normalize=False)"
   ]
  },
  {
   "cell_type": "code",
   "execution_count": 9,
   "id": "6c82cb69",
   "metadata": {},
   "outputs": [],
   "source": [
    "# Undersampling nos dados default == 0:\n",
    "#    tamanho do df default == 0 se reduz a 1x do tamanho do df default == 1\n",
    "\n",
    "i_zero = np.random.choice(df.query('default == 0').index.to_list(),\n",
    "                          int(1*len(df.query('default == 1').index.to_list())))\n",
    "\n",
    "df = pd.concat([df.query('default == 0').loc[i_zero], df.query('default == 1')], axis=0)"
   ]
  },
  {
   "cell_type": "markdown",
   "id": "954ec859",
   "metadata": {},
   "source": [
    "### Feature Engineering"
   ]
  },
  {
   "cell_type": "code",
   "execution_count": 10,
   "id": "2d2ccd04",
   "metadata": {},
   "outputs": [],
   "source": [
    "# Extraindo colunas da feature categórica 'ed'\n",
    "df['ed_1'] = df['ed'].apply(lambda x:1 if x==1 else 0)\n",
    "df.drop('ed', axis=1, inplace=True)\n",
    "\n",
    "\n",
    "# Guardando os dados de 'employ' em intervalos\n",
    "employ_min = df['employ'].min()\n",
    "employ_max = df['employ'].max()\n",
    "bins = np.linspace(employ_min, employ_max, 4) #4 pontos -> três intervalos\n",
    "group_names = [1, 2, 3]\n",
    "df['employ'] = pd.cut(x=df['employ'], bins=bins, labels=group_names, include_lowest=True)\n",
    "\n",
    "# Corrigindo desbalanceamento de 'employ'\n",
    "df['employ_lvl_1'] = df['employ'].apply(lambda x:1 if x==1 else 0)\n",
    "df.drop('employ', axis=1, inplace=True)\n",
    "\n",
    "\n",
    "# Guardando os dados de 'address' em intervalos\n",
    "address_min = df['address'].min()\n",
    "address_max = df['address'].max()\n",
    "bins = np.linspace(address_min, address_max, 4) #4 pontos -> três intervalos\n",
    "group_names = [1, 2, 3]\n",
    "df['address'] = pd.cut(x=df['address'], bins=bins, labels=group_names, include_lowest=True)\n",
    "\n",
    "# Corrigindo desbalanceamento de 'address'\n",
    "df['address_group_1'] = df['address'].apply(lambda x:1 if x==1 else 0)\n",
    "df.drop('address', axis=1, inplace=True)"
   ]
  },
  {
   "cell_type": "markdown",
   "id": "b1aeb406",
   "metadata": {},
   "source": [
    "## Processamento"
   ]
  },
  {
   "cell_type": "markdown",
   "id": "58f9ee1c",
   "metadata": {},
   "source": [
    "### Analisando correlações para restringir colunas se necessário"
   ]
  },
  {
   "cell_type": "code",
   "execution_count": 11,
   "id": "ce6868ef",
   "metadata": {},
   "outputs": [
    {
     "data": {
      "text/html": [
       "<div>\n",
       "<style scoped>\n",
       "    .dataframe tbody tr th:only-of-type {\n",
       "        vertical-align: middle;\n",
       "    }\n",
       "\n",
       "    .dataframe tbody tr th {\n",
       "        vertical-align: top;\n",
       "    }\n",
       "\n",
       "    .dataframe thead th {\n",
       "        text-align: right;\n",
       "    }\n",
       "</style>\n",
       "<table border=\"1\" class=\"dataframe\">\n",
       "  <thead>\n",
       "    <tr style=\"text-align: right;\">\n",
       "      <th></th>\n",
       "      <th>default</th>\n",
       "    </tr>\n",
       "  </thead>\n",
       "  <tbody>\n",
       "    <tr>\n",
       "      <th>default</th>\n",
       "      <td>1.000000</td>\n",
       "    </tr>\n",
       "    <tr>\n",
       "      <th>debtinc</th>\n",
       "      <td>0.456738</td>\n",
       "    </tr>\n",
       "    <tr>\n",
       "      <th>creddebt</th>\n",
       "      <td>0.270505</td>\n",
       "    </tr>\n",
       "    <tr>\n",
       "      <th>employ_lvl_1</th>\n",
       "      <td>0.221249</td>\n",
       "    </tr>\n",
       "    <tr>\n",
       "      <th>address_group_1</th>\n",
       "      <td>0.220847</td>\n",
       "    </tr>\n",
       "    <tr>\n",
       "      <th>othdebt</th>\n",
       "      <td>0.212460</td>\n",
       "    </tr>\n",
       "    <tr>\n",
       "      <th>age</th>\n",
       "      <td>0.192695</td>\n",
       "    </tr>\n",
       "    <tr>\n",
       "      <th>ed_1</th>\n",
       "      <td>0.125691</td>\n",
       "    </tr>\n",
       "    <tr>\n",
       "      <th>income</th>\n",
       "      <td>0.057826</td>\n",
       "    </tr>\n",
       "  </tbody>\n",
       "</table>\n",
       "</div>"
      ],
      "text/plain": [
       "                  default\n",
       "default          1.000000\n",
       "debtinc          0.456738\n",
       "creddebt         0.270505\n",
       "employ_lvl_1     0.221249\n",
       "address_group_1  0.220847\n",
       "othdebt          0.212460\n",
       "age              0.192695\n",
       "ed_1             0.125691\n",
       "income           0.057826"
      ]
     },
     "execution_count": 11,
     "metadata": {},
     "output_type": "execute_result"
    }
   ],
   "source": [
    "df.corr()['default'].apply(lambda x:x if x>=0 else -x).sort_values(ascending=False).to_frame()"
   ]
  },
  {
   "cell_type": "markdown",
   "id": "b21abdcf",
   "metadata": {},
   "source": [
    "### Separação e normalização dos dados"
   ]
  },
  {
   "cell_type": "code",
   "execution_count": 12,
   "id": "dadcac99",
   "metadata": {},
   "outputs": [],
   "source": [
    "from sklearn.model_selection import train_test_split\n",
    "from sklearn.preprocessing import StandardScaler\n",
    "\n",
    "X = df.drop(columns={'default'})\n",
    "y = df['default']\n",
    "\n",
    "X_train, X_test, y_train, y_test = train_test_split(X, y, test_size=0.3, random_state=seed)\n",
    "\n",
    "scaler = StandardScaler()\n",
    "\n",
    "X_train = scaler.fit_transform(X_train)\n",
    "X_test = scaler.transform(X_test)"
   ]
  },
  {
   "cell_type": "markdown",
   "id": "d8e54607",
   "metadata": {},
   "source": [
    "## Modelagem (Com hyperpam. tuning)"
   ]
  },
  {
   "cell_type": "code",
   "execution_count": 13,
   "id": "b35cc5f8",
   "metadata": {},
   "outputs": [],
   "source": [
    "from skopt import BayesSearchCV\n",
    "from skopt.space import Real, Categorical, Integer\n",
    "\n",
    "results = {}"
   ]
  },
  {
   "cell_type": "markdown",
   "id": "d8597cb3",
   "metadata": {},
   "source": [
    "### Usando Regressão Logística"
   ]
  },
  {
   "cell_type": "code",
   "execution_count": 14,
   "id": "89e5290a",
   "metadata": {},
   "outputs": [
    {
     "name": "stdout",
     "output_type": "stream",
     "text": [
      "LogisticRegression(C=0.9738436274368821, random_state=7)\n"
     ]
    }
   ],
   "source": [
    "from sklearn.linear_model import LogisticRegression\n",
    "\n",
    "lr_model = BayesSearchCV(LogisticRegression(random_state=seed), \n",
    "                        {\n",
    "                            'C':Real(1e-4, 1e2, prior='log-uniform')\n",
    "                        },\n",
    "                         cv=4,\n",
    "                         random_state=seed,\n",
    "                         n_iter=32\n",
    "                        )\n",
    "\n",
    "lr_model.fit(X_train, y_train)\n",
    "\n",
    "y_hat = lr_model.predict(X_test)\n",
    "\n",
    "results['LR'] = y_hat\n",
    "\n",
    "print(lr_model.best_estimator_)"
   ]
  },
  {
   "cell_type": "markdown",
   "id": "92982532",
   "metadata": {},
   "source": [
    "### Usando Support Vector Classifier"
   ]
  },
  {
   "cell_type": "code",
   "execution_count": 15,
   "id": "e3b0109a",
   "metadata": {},
   "outputs": [
    {
     "name": "stdout",
     "output_type": "stream",
     "text": [
      "SVC(C=1000.0, degree=6, gamma=0.0001, probability=True)\n"
     ]
    }
   ],
   "source": [
    "from sklearn.svm import SVC\n",
    "\n",
    "svc_model = BayesSearchCV(SVC(probability=True),\n",
    "                          {\n",
    "                             'C': Real(1e-4, 1e+3, prior='log-uniform'),\n",
    "                             'gamma': Real(1e-4, 1e+1, prior='log-uniform'),\n",
    "                             'degree': Integer(1,6),\n",
    "                             'kernel': Categorical(['linear', 'poly', 'rbf']),\n",
    "                          },\n",
    "                          n_iter=30,\n",
    "                          random_state=seed\n",
    "                          )\n",
    "\n",
    "svc_model.fit(X_train, y_train)\n",
    "\n",
    "y_hat = svc_model.predict(X_test)\n",
    "\n",
    "results['SVC'] = y_hat\n",
    "\n",
    "print(svc_model.best_estimator_)"
   ]
  },
  {
   "cell_type": "markdown",
   "id": "bc522c5a",
   "metadata": {},
   "source": [
    "### Usando árvore de decisão"
   ]
  },
  {
   "cell_type": "code",
   "execution_count": 16,
   "id": "bb325f76",
   "metadata": {},
   "outputs": [],
   "source": [
    "from sklearn.tree import DecisionTreeClassifier\n",
    "\n",
    "tree_model = DecisionTreeClassifier(random_state=seed)\n",
    "\n",
    "tree_model.fit(X_train, y_train)\n",
    "\n",
    "y_hat = tree_model.predict(X_test)\n",
    "\n",
    "results['TREE'] = y_hat"
   ]
  },
  {
   "cell_type": "markdown",
   "id": "dcdf7092",
   "metadata": {},
   "source": [
    "### Usando K Vizinhos Próximos (K nearest neighbors)"
   ]
  },
  {
   "cell_type": "code",
   "execution_count": 17,
   "id": "58eb0925",
   "metadata": {},
   "outputs": [
    {
     "name": "stderr",
     "output_type": "stream",
     "text": [
      "/home/vinicius/anaconda3/envs/DataScience/lib/python3.9/site-packages/skopt/optimizer/optimizer.py:449: UserWarning: The objective has been evaluated at this point before.\n",
      "  warnings.warn(\"The objective has been evaluated \"\n",
      "/home/vinicius/anaconda3/envs/DataScience/lib/python3.9/site-packages/skopt/optimizer/optimizer.py:449: UserWarning: The objective has been evaluated at this point before.\n",
      "  warnings.warn(\"The objective has been evaluated \"\n",
      "/home/vinicius/anaconda3/envs/DataScience/lib/python3.9/site-packages/skopt/optimizer/optimizer.py:449: UserWarning: The objective has been evaluated at this point before.\n",
      "  warnings.warn(\"The objective has been evaluated \"\n",
      "/home/vinicius/anaconda3/envs/DataScience/lib/python3.9/site-packages/skopt/optimizer/optimizer.py:449: UserWarning: The objective has been evaluated at this point before.\n",
      "  warnings.warn(\"The objective has been evaluated \"\n",
      "/home/vinicius/anaconda3/envs/DataScience/lib/python3.9/site-packages/skopt/optimizer/optimizer.py:449: UserWarning: The objective has been evaluated at this point before.\n",
      "  warnings.warn(\"The objective has been evaluated \"\n",
      "/home/vinicius/anaconda3/envs/DataScience/lib/python3.9/site-packages/skopt/optimizer/optimizer.py:449: UserWarning: The objective has been evaluated at this point before.\n",
      "  warnings.warn(\"The objective has been evaluated \"\n",
      "/home/vinicius/anaconda3/envs/DataScience/lib/python3.9/site-packages/skopt/optimizer/optimizer.py:449: UserWarning: The objective has been evaluated at this point before.\n",
      "  warnings.warn(\"The objective has been evaluated \"\n",
      "/home/vinicius/anaconda3/envs/DataScience/lib/python3.9/site-packages/skopt/optimizer/optimizer.py:449: UserWarning: The objective has been evaluated at this point before.\n",
      "  warnings.warn(\"The objective has been evaluated \"\n",
      "/home/vinicius/anaconda3/envs/DataScience/lib/python3.9/site-packages/skopt/optimizer/optimizer.py:449: UserWarning: The objective has been evaluated at this point before.\n",
      "  warnings.warn(\"The objective has been evaluated \"\n"
     ]
    },
    {
     "name": "stdout",
     "output_type": "stream",
     "text": [
      "KNeighborsClassifier(n_neighbors=10, weights='distance')\n"
     ]
    }
   ],
   "source": [
    "from sklearn.neighbors import KNeighborsClassifier\n",
    "\n",
    "knn_model = BayesSearchCV( KNeighborsClassifier(), \n",
    "                           {\n",
    "                               'n_neighbors':Integer(1,10),\n",
    "                               'weights': Categorical(['uniform', 'distance']) \n",
    "                           },\n",
    "                           n_iter=32,\n",
    "                           random_state=seed)\n",
    "\n",
    "knn_model.fit(X_train, y_train)\n",
    "\n",
    "y_hat = knn_model.predict(X_test)\n",
    "\n",
    "results['KNN'] = y_hat\n",
    "\n",
    "print(knn_model.best_estimator_)"
   ]
  },
  {
   "cell_type": "markdown",
   "id": "5184248e",
   "metadata": {},
   "source": [
    "### Usando Floresta Aleatória"
   ]
  },
  {
   "cell_type": "code",
   "execution_count": 18,
   "id": "2e2526fb",
   "metadata": {},
   "outputs": [
    {
     "name": "stdout",
     "output_type": "stream",
     "text": [
      "RandomForestClassifier(bootstrap=False, max_depth=10, max_features='sqrt',\n",
      "                       min_samples_leaf=5, min_samples_split=22,\n",
      "                       n_estimators=50, random_state=7)\n"
     ]
    }
   ],
   "source": [
    "from sklearn.ensemble import RandomForestClassifier\n",
    "\n",
    "\n",
    "forest_model = BayesSearchCV(RandomForestClassifier(random_state=seed),\n",
    "                             {\n",
    "                                  'n_estimators': [5,20,50,100],\n",
    "                                  'max_features': Categorical(['auto', 'sqrt']),\n",
    "                                  'max_depth': Integer(10,120),\n",
    "                                  'min_samples_split': Integer(2,30),\n",
    "                                  'min_samples_leaf': Integer(1,5),\n",
    "                                  'bootstrap': [True, False]\n",
    "                             },\n",
    "                             random_state=seed,\n",
    "                             cv=4,\n",
    "                             n_iter=32\n",
    "                             )\n",
    "\n",
    "forest_model.fit(X_train, y_train)\n",
    "\n",
    "y_hat = forest_model.predict(X_test)\n",
    "\n",
    "results['FOREST'] = y_hat\n",
    "\n",
    "print(forest_model.best_estimator_)"
   ]
  },
  {
   "cell_type": "markdown",
   "id": "e8f3029e",
   "metadata": {},
   "source": [
    "## Models Evaluation (avaliação dos modelos)\n",
    "\n",
    "Sabendo que o problema em questão é sobre análise de risco, entre os erros possíveis:\n",
    "- I - Classificar um cliente como devedor sendo que ele não é (melhor erro possível, gera menos prejuízo para a empresa)\n",
    "- II - Classificar um cliente como não devedor sendo que ele é (pior erro possível, gera mais prejuízo para a empresa)\n",
    "\n",
    "Portanto, modelos que apresentem menor quantidade de erros do tipo II mencionado acima serão favorecidos na avaliação."
   ]
  },
  {
   "cell_type": "markdown",
   "id": "1431185f",
   "metadata": {},
   "source": [
    "### Precisão"
   ]
  },
  {
   "cell_type": "code",
   "execution_count": 19,
   "id": "2b0df7c1",
   "metadata": {},
   "outputs": [
    {
     "name": "stdout",
     "output_type": "stream",
     "text": [
      "Precisão de treino\n",
      "\n",
      "Logistic Regression:  0.7829457364341085\n",
      "Support Vector Class.:  0.7903225806451613\n",
      "Decision Tree Class.:  1.0\n",
      "K Nearest Neighbors:  1.0\n",
      "Random Forest Class.:  0.8571428571428571\n",
      "\n",
      "\n",
      "Precisão de teste\n",
      "\n",
      "Logistic Regression:  0.7903225806451613\n",
      "Support Vector Class.:  0.7796610169491526\n",
      "Decision Tree Class.:  0.7222222222222222\n",
      "K Nearest Neighbors:  0.7857142857142857\n",
      "Random Forest Class.:  0.8035714285714286\n"
     ]
    }
   ],
   "source": [
    "from sklearn.metrics import precision_score\n",
    "\n",
    "print('Precisão de treino\\n')\n",
    "print('Logistic Regression: ', precision_score(y_true=y_train, y_pred=lr_model.predict(X_train)))\n",
    "print('Support Vector Class.: ', precision_score(y_true=y_train, y_pred=svc_model.predict(X_train)))\n",
    "print('Decision Tree Class.: ', precision_score(y_true=y_train, y_pred=tree_model.predict(X_train)))\n",
    "print('K Nearest Neighbors: ', precision_score(y_true=y_train, y_pred=knn_model.predict(X_train)))\n",
    "print('Random Forest Class.: ', precision_score(y_true=y_train, y_pred=forest_model.predict(X_train)))\n",
    "\n",
    "print('\\n\\nPrecisão de teste\\n')\n",
    "print('Logistic Regression: ', precision_score(y_true=y_test, y_pred=results['LR']))\n",
    "print('Support Vector Class.: ', precision_score(y_true=y_test, y_pred=results['SVC']))\n",
    "print('Decision Tree Class.: ', precision_score(y_true=y_test, y_pred=results['TREE']))\n",
    "print('K Nearest Neighbors: ', precision_score(y_true=y_test, y_pred=results['KNN']))\n",
    "print('Random Forest Class.: ', precision_score(y_true=y_test, y_pred=results['FOREST']))"
   ]
  },
  {
   "cell_type": "markdown",
   "id": "94e7fa48",
   "metadata": {},
   "source": [
    "### Recall"
   ]
  },
  {
   "cell_type": "code",
   "execution_count": 20,
   "id": "28b599fd",
   "metadata": {},
   "outputs": [
    {
     "name": "stdout",
     "output_type": "stream",
     "text": [
      "\n",
      "\n",
      "Dados de treino\n",
      "Logistic Regression:  0.7829457364341085\n",
      "Support Vector Class.:  0.7596899224806202\n",
      "Decision Tree Class.:  1.0\n",
      "K Nearest Neighbors:  1.0\n",
      "Random Forest Class.:  0.8837209302325582\n",
      "\n",
      "\n",
      "Dados de teste\n",
      "Logistic Regression:  0.9074074074074074\n",
      "Support Vector Class.:  0.8518518518518519\n",
      "Decision Tree Class.:  0.7222222222222222\n",
      "K Nearest Neighbors:  0.8148148148148148\n",
      "Random Forest Class.:  0.8333333333333334\n"
     ]
    }
   ],
   "source": [
    "from sklearn.metrics import recall_score\n",
    "\n",
    "print('\\n\\nDados de treino')\n",
    "print('Logistic Regression: ', recall_score(y_true=y_train, y_pred=lr_model.predict(X_train)))\n",
    "print('Support Vector Class.: ', recall_score(y_true=y_train, y_pred=svc_model.predict(X_train)))\n",
    "print('Decision Tree Class.: ', recall_score(y_true=y_train, y_pred=tree_model.predict(X_train)))\n",
    "print('K Nearest Neighbors: ', recall_score(y_true=y_train, y_pred=knn_model.predict(X_train)))\n",
    "print('Random Forest Class.: ', recall_score(y_true=y_train, y_pred=forest_model.predict(X_train)))\n",
    "\n",
    "print('\\n\\nDados de teste')\n",
    "print('Logistic Regression: ', recall_score(y_true=y_test, y_pred=results['LR']))\n",
    "print('Support Vector Class.: ', recall_score(y_true=y_test, y_pred=results['SVC']))\n",
    "print('Decision Tree Class.: ', recall_score(y_true=y_test, y_pred=results['TREE']))\n",
    "print('K Nearest Neighbors: ', recall_score(y_true=y_test, y_pred=results['KNN']))\n",
    "print('Random Forest Class.: ', recall_score(y_true=y_test, y_pred=results['FOREST']))"
   ]
  },
  {
   "cell_type": "markdown",
   "id": "b517b348",
   "metadata": {},
   "source": [
    "### F1-Score"
   ]
  },
  {
   "cell_type": "code",
   "execution_count": 21,
   "id": "d1b93163",
   "metadata": {},
   "outputs": [
    {
     "name": "stdout",
     "output_type": "stream",
     "text": [
      "Logistic Regression:  0.8448275862068966\n",
      "Support Vector Class.:  0.8141592920353983\n",
      "Decision Tree Class.:  0.7222222222222222\n",
      "K Nearest Neighbors:  0.7999999999999999\n",
      "Random Forest Class.:  0.8181818181818182\n"
     ]
    }
   ],
   "source": [
    "from sklearn.metrics import f1_score\n",
    "\n",
    "print('Logistic Regression: ', f1_score(y_true=y_test, y_pred=results['LR']))\n",
    "print('Support Vector Class.: ', f1_score(y_true=y_test, y_pred=results['SVC']))\n",
    "print('Decision Tree Class.: ', f1_score(y_true=y_test, y_pred=results['TREE']))\n",
    "print('K Nearest Neighbors: ', f1_score(y_true=y_test, y_pred=results['KNN']))\n",
    "print('Random Forest Class.: ', f1_score(y_true=y_test, y_pred=results['FOREST']))"
   ]
  },
  {
   "cell_type": "markdown",
   "id": "50f1238b",
   "metadata": {},
   "source": [
    "### Matriz de confusão"
   ]
  },
  {
   "cell_type": "code",
   "execution_count": 22,
   "id": "01fe3045",
   "metadata": {},
   "outputs": [
    {
     "data": {
      "image/png": "[encoded data removed]",
      "text/plain": [
       "<Figure size 1296x720 with 6 Axes>"
      ]
     },
     "metadata": {},
     "output_type": "display_data"
    }
   ],
   "source": [
    "from sklearn.metrics import confusion_matrix\n",
    "\n",
    "fig, ax = plt.subplots(2, 3, figsize=(18,10), sharey=True)\n",
    "\n",
    "# Logistic Regression\n",
    "ax[0][0].set_title('Regressão Logística')\n",
    "sns.heatmap(confusion_matrix(y_true=y_test, y_pred=results['LR']),\n",
    "            ax=ax[0][0],\n",
    "            fmt='.2f',\n",
    "            cmap='Blues',\n",
    "            annot=True,\n",
    "            cbar=False,\n",
    "            xticklabels=['previsão_0', 'previsão_1'],\n",
    "            yticklabels=['realidade_0', 'realidade_1'])\n",
    "\n",
    "\n",
    "# Support Vector Class.\n",
    "ax[0][1].set_title('SVC')\n",
    "sns.heatmap(confusion_matrix(y_true=y_test, y_pred=results['SVC']),\n",
    "            ax=ax[0][1],\n",
    "            fmt='.2f',\n",
    "            cmap='Reds',\n",
    "            annot=True,\n",
    "            cbar=False,\n",
    "            xticklabels=['previsão_0', 'previsão_1'],\n",
    "            yticklabels=['realidade_0', 'realidade_1'])\n",
    "\n",
    "\n",
    "# Decision Tree Class.\n",
    "ax[0][2].set_title('Árvore de Decisão')\n",
    "sns.heatmap(confusion_matrix(y_true=y_test, y_pred=results['TREE']),\n",
    "            ax=ax[0][2],\n",
    "            fmt='.2f',\n",
    "            cmap='Greens',\n",
    "            annot=True,\n",
    "            cbar=False,\n",
    "            xticklabels=['previsão_0', 'previsão_1'],\n",
    "            yticklabels=['realidade_0', 'realidade_1'])\n",
    "\n",
    "\n",
    "# K Nearest Neighbors\n",
    "ax[1][0].set_title('KNN')\n",
    "sns.heatmap(confusion_matrix(y_true=y_test, y_pred=results['KNN']),\n",
    "            ax=ax[1][0],\n",
    "            fmt='.2f',\n",
    "            cmap='Greys',\n",
    "            annot=True,\n",
    "            cbar=False,\n",
    "            xticklabels=['previsão_0', 'previsão_1'],\n",
    "            yticklabels=['realidade_0', 'realidade_1'])\n",
    "\n",
    "\n",
    "\n",
    "\n",
    "# Random Forest Classifier\n",
    "ax[1][1].set_title('Random Forest')\n",
    "sns.heatmap(confusion_matrix(y_true=y_test, y_pred=results['FOREST']),\n",
    "            ax=ax[1][1],\n",
    "            fmt='.2f',\n",
    "            cmap='Blues',\n",
    "            annot=True,\n",
    "            cbar=False,\n",
    "            xticklabels=['previsão_0', 'previsão_1'],\n",
    "            yticklabels=['realidade_0', 'realidade_1'])\n",
    "\n",
    "\n",
    "plt.savefig('../Imagens/Matrizes_confusão.png')\n",
    "plt.show()"
   ]
  },
  {
   "cell_type": "markdown",
   "id": "90dbf733",
   "metadata": {},
   "source": [
    "## Salvando modelo"
   ]
  },
  {
   "cell_type": "code",
   "execution_count": 23,
   "id": "97827df8",
   "metadata": {},
   "outputs": [],
   "source": [
    "import pickle\n",
    "\n",
    "try:\n",
    "    arq = open('../Modelos/modelo_classificacao_default.pk', 'wb')\n",
    "    pickle.dump(lr_model, arq)\n",
    "    arq.close()\n",
    "\n",
    "except:\n",
    "    print('Erro ao salvar modelo de classificação no arquivo especificado...')"
   ]
  }
 ],
 "metadata": {
  "kernelspec": {
   "display_name": "Python 3 (ipykernel)",
   "language": "python",
   "name": "python3"
  },
  "language_info": {
   "codemirror_mode": {
    "name": "ipython",
    "version": 3
   },
   "file_extension": ".py",
   "mimetype": "text/x-python",
   "name": "python",
   "nbconvert_exporter": "python",
   "pygments_lexer": "ipython3",
   "version": "3.9.7"
  }
 },
 "nbformat": 4,
 "nbformat_minor": 5
}
